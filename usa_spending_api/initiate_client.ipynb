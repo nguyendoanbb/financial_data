{
 "cells": [
  {
   "cell_type": "code",
   "execution_count": 2,
   "id": "08b1424b",
   "metadata": {},
   "outputs": [],
   "source": [
    "import polygon as pol"
   ]
  },
  {
   "cell_type": "code",
   "execution_count": 3,
   "id": "50fbb970",
   "metadata": {},
   "outputs": [],
   "source": [
    "client = pol.RESTClient(api_key=\"WIpg7M2uKvaFSYxkXcouQeRl2CWWXIov\")"
   ]
  },
  {
   "cell_type": "code",
   "execution_count": 4,
   "id": "dac85ac9",
   "metadata": {},
   "outputs": [],
   "source": [
    "my_ticker = [\"AAPL\"]"
   ]
  },
  {
   "cell_type": "code",
   "execution_count": 8,
   "id": "a4706d1a",
   "metadata": {},
   "outputs": [
    {
     "ename": "BadResponse",
     "evalue": "{\"status\":\"ERROR\",\"request_id\":\"956a4e53135bb0cea5c99e5067ac761f\",\"error\":\"You've exceeded the maximum requests per minute, please wait or upgrade your subscription to continue. https://polygon.io/pricing\"}",
     "output_type": "error",
     "traceback": [
      "\u001b[0;31m---------------------------------------------------------------------------\u001b[0m",
      "\u001b[0;31mBadResponse\u001b[0m                               Traceback (most recent call last)",
      "Cell \u001b[0;32mIn[8], line 1\u001b[0m\n\u001b[0;32m----> 1\u001b[0m \u001b[39mfor\u001b[39;00m (i, n) \u001b[39min\u001b[39;00m \u001b[39menumerate\u001b[39m(client\u001b[39m.\u001b[39mvx\u001b[39m.\u001b[39mlist_stock_financials(ticker\u001b[39m=\u001b[39m\u001b[39m\"\u001b[39m\u001b[39mAAPL\u001b[39m\u001b[39m\"\u001b[39m)):\n\u001b[1;32m      2\u001b[0m     \u001b[39mprint\u001b[39m(i,n)\n\u001b[1;32m      3\u001b[0m     \u001b[39mif\u001b[39;00m i \u001b[39m==\u001b[39m \u001b[39m3\u001b[39m:\n",
      "File \u001b[0;32m~/anaconda3/envs/polygon_project/lib/python3.10/site-packages/polygon/rest/base.py:192\u001b[0m, in \u001b[0;36mBaseClient._paginate_iter\u001b[0;34m(self, path, params, deserializer, result_key, options)\u001b[0m\n\u001b[1;32m    183\u001b[0m \u001b[39mdef\u001b[39;00m \u001b[39m_paginate_iter\u001b[39m(\n\u001b[1;32m    184\u001b[0m     \u001b[39mself\u001b[39m,\n\u001b[1;32m    185\u001b[0m     path: \u001b[39mstr\u001b[39m,\n\u001b[0;32m   (...)\u001b[0m\n\u001b[1;32m    189\u001b[0m     options: Optional[RequestOptionBuilder] \u001b[39m=\u001b[39m \u001b[39mNone\u001b[39;00m,\n\u001b[1;32m    190\u001b[0m ):\n\u001b[1;32m    191\u001b[0m     \u001b[39mwhile\u001b[39;00m \u001b[39mTrue\u001b[39;00m:\n\u001b[0;32m--> 192\u001b[0m         resp \u001b[39m=\u001b[39m \u001b[39mself\u001b[39;49m\u001b[39m.\u001b[39;49m_get(\n\u001b[1;32m    193\u001b[0m             path\u001b[39m=\u001b[39;49mpath,\n\u001b[1;32m    194\u001b[0m             params\u001b[39m=\u001b[39;49mparams,\n\u001b[1;32m    195\u001b[0m             deserializer\u001b[39m=\u001b[39;49mdeserializer,\n\u001b[1;32m    196\u001b[0m             result_key\u001b[39m=\u001b[39;49mresult_key,\n\u001b[1;32m    197\u001b[0m             raw\u001b[39m=\u001b[39;49m\u001b[39mTrue\u001b[39;49;00m,\n\u001b[1;32m    198\u001b[0m             options\u001b[39m=\u001b[39;49moptions,\n\u001b[1;32m    199\u001b[0m         )\n\u001b[1;32m    200\u001b[0m         decoded \u001b[39m=\u001b[39m \u001b[39mself\u001b[39m\u001b[39m.\u001b[39m_decode(resp)\n\u001b[1;32m    201\u001b[0m         \u001b[39mfor\u001b[39;00m t \u001b[39min\u001b[39;00m decoded[result_key]:\n",
      "File \u001b[0;32m~/anaconda3/envs/polygon_project/lib/python3.10/site-packages/polygon/rest/base.py:110\u001b[0m, in \u001b[0;36mBaseClient._get\u001b[0;34m(self, path, params, result_key, deserializer, raw, options)\u001b[0m\n\u001b[1;32m    107\u001b[0m     \u001b[39mprint\u001b[39m(\u001b[39mf\u001b[39m\u001b[39m\"\u001b[39m\u001b[39mResponse Headers: \u001b[39m\u001b[39m{\u001b[39;00mresp_headers_dict\u001b[39m}\u001b[39;00m\u001b[39m\"\u001b[39m)\n\u001b[1;32m    109\u001b[0m \u001b[39mif\u001b[39;00m resp\u001b[39m.\u001b[39mstatus \u001b[39m!=\u001b[39m \u001b[39m200\u001b[39m:\n\u001b[0;32m--> 110\u001b[0m     \u001b[39mraise\u001b[39;00m BadResponse(resp\u001b[39m.\u001b[39mdata\u001b[39m.\u001b[39mdecode(\u001b[39m\"\u001b[39m\u001b[39mutf-8\u001b[39m\u001b[39m\"\u001b[39m))\n\u001b[1;32m    112\u001b[0m \u001b[39mif\u001b[39;00m raw:\n\u001b[1;32m    113\u001b[0m     \u001b[39mreturn\u001b[39;00m resp\n",
      "\u001b[0;31mBadResponse\u001b[0m: {\"status\":\"ERROR\",\"request_id\":\"956a4e53135bb0cea5c99e5067ac761f\",\"error\":\"You've exceeded the maximum requests per minute, please wait or upgrade your subscription to continue. https://polygon.io/pricing\"}"
     ]
    }
   ],
   "source": [
    "for (i, n) in enumerate(client.vx.list_stock_financials(ticker=\"AAPL\")):\n",
    "    print(i,n)\n",
    "    if i == 3:\n",
    "        break"
   ]
  },
  {
   "cell_type": "code",
   "execution_count": 6,
   "id": "96df5603",
   "metadata": {},
   "outputs": [],
   "source": [
    "# write a class to extract data from generator\n",
    "class Extractor:\n",
    "    def __init__(self, client, ticker):\n",
    "        self.client = client\n",
    "        self.ticker = ticker\n",
    "        self.data = self.client.vx.list_stock_financials(ticker=self.ticker)\n",
    "        self.data = list(self.data)\n",
    "        self.data = self.data[0]\n",
    "        self.data = self.data[\"results\"]\n",
    "        \n",
    "    def get_data(self):\n",
    "        return self.data"
   ]
  },
  {
   "cell_type": "code",
   "execution_count": 7,
   "id": "7d0bc535",
   "metadata": {},
   "outputs": [
    {
     "ename": "BadResponse",
     "evalue": "{\"status\":\"ERROR\",\"request_id\":\"e9d838039cd22b45331290b640affc83\",\"error\":\"You've exceeded the maximum requests per minute, please wait or upgrade your subscription to continue. https://polygon.io/pricing\"}",
     "output_type": "error",
     "traceback": [
      "\u001b[0;31m---------------------------------------------------------------------------\u001b[0m",
      "\u001b[0;31mBadResponse\u001b[0m                               Traceback (most recent call last)",
      "Cell \u001b[0;32mIn[7], line 1\u001b[0m\n\u001b[0;32m----> 1\u001b[0m Extractor(client, \u001b[39m\"\u001b[39;49m\u001b[39mAAPL\u001b[39;49m\u001b[39m\"\u001b[39;49m)\u001b[39m.\u001b[39mget_data()\n",
      "Cell \u001b[0;32mIn[6], line 7\u001b[0m, in \u001b[0;36mExtractor.__init__\u001b[0;34m(self, client, ticker)\u001b[0m\n\u001b[1;32m      5\u001b[0m \u001b[39mself\u001b[39m\u001b[39m.\u001b[39mticker \u001b[39m=\u001b[39m ticker\n\u001b[1;32m      6\u001b[0m \u001b[39mself\u001b[39m\u001b[39m.\u001b[39mdata \u001b[39m=\u001b[39m \u001b[39mself\u001b[39m\u001b[39m.\u001b[39mclient\u001b[39m.\u001b[39mvx\u001b[39m.\u001b[39mlist_stock_financials(ticker\u001b[39m=\u001b[39m\u001b[39mself\u001b[39m\u001b[39m.\u001b[39mticker)\n\u001b[0;32m----> 7\u001b[0m \u001b[39mself\u001b[39m\u001b[39m.\u001b[39mdata \u001b[39m=\u001b[39m \u001b[39mlist\u001b[39;49m(\u001b[39mself\u001b[39;49m\u001b[39m.\u001b[39;49mdata)\n\u001b[1;32m      8\u001b[0m \u001b[39mself\u001b[39m\u001b[39m.\u001b[39mdata \u001b[39m=\u001b[39m \u001b[39mself\u001b[39m\u001b[39m.\u001b[39mdata[\u001b[39m0\u001b[39m]\n\u001b[1;32m      9\u001b[0m \u001b[39mself\u001b[39m\u001b[39m.\u001b[39mdata \u001b[39m=\u001b[39m \u001b[39mself\u001b[39m\u001b[39m.\u001b[39mdata[\u001b[39m\"\u001b[39m\u001b[39mresults\u001b[39m\u001b[39m\"\u001b[39m]\n",
      "File \u001b[0;32m~/anaconda3/envs/polygon_project/lib/python3.10/site-packages/polygon/rest/base.py:192\u001b[0m, in \u001b[0;36mBaseClient._paginate_iter\u001b[0;34m(self, path, params, deserializer, result_key, options)\u001b[0m\n\u001b[1;32m    183\u001b[0m \u001b[39mdef\u001b[39;00m \u001b[39m_paginate_iter\u001b[39m(\n\u001b[1;32m    184\u001b[0m     \u001b[39mself\u001b[39m,\n\u001b[1;32m    185\u001b[0m     path: \u001b[39mstr\u001b[39m,\n\u001b[0;32m   (...)\u001b[0m\n\u001b[1;32m    189\u001b[0m     options: Optional[RequestOptionBuilder] \u001b[39m=\u001b[39m \u001b[39mNone\u001b[39;00m,\n\u001b[1;32m    190\u001b[0m ):\n\u001b[1;32m    191\u001b[0m     \u001b[39mwhile\u001b[39;00m \u001b[39mTrue\u001b[39;00m:\n\u001b[0;32m--> 192\u001b[0m         resp \u001b[39m=\u001b[39m \u001b[39mself\u001b[39;49m\u001b[39m.\u001b[39;49m_get(\n\u001b[1;32m    193\u001b[0m             path\u001b[39m=\u001b[39;49mpath,\n\u001b[1;32m    194\u001b[0m             params\u001b[39m=\u001b[39;49mparams,\n\u001b[1;32m    195\u001b[0m             deserializer\u001b[39m=\u001b[39;49mdeserializer,\n\u001b[1;32m    196\u001b[0m             result_key\u001b[39m=\u001b[39;49mresult_key,\n\u001b[1;32m    197\u001b[0m             raw\u001b[39m=\u001b[39;49m\u001b[39mTrue\u001b[39;49;00m,\n\u001b[1;32m    198\u001b[0m             options\u001b[39m=\u001b[39;49moptions,\n\u001b[1;32m    199\u001b[0m         )\n\u001b[1;32m    200\u001b[0m         decoded \u001b[39m=\u001b[39m \u001b[39mself\u001b[39m\u001b[39m.\u001b[39m_decode(resp)\n\u001b[1;32m    201\u001b[0m         \u001b[39mfor\u001b[39;00m t \u001b[39min\u001b[39;00m decoded[result_key]:\n",
      "File \u001b[0;32m~/anaconda3/envs/polygon_project/lib/python3.10/site-packages/polygon/rest/base.py:110\u001b[0m, in \u001b[0;36mBaseClient._get\u001b[0;34m(self, path, params, result_key, deserializer, raw, options)\u001b[0m\n\u001b[1;32m    107\u001b[0m     \u001b[39mprint\u001b[39m(\u001b[39mf\u001b[39m\u001b[39m\"\u001b[39m\u001b[39mResponse Headers: \u001b[39m\u001b[39m{\u001b[39;00mresp_headers_dict\u001b[39m}\u001b[39;00m\u001b[39m\"\u001b[39m)\n\u001b[1;32m    109\u001b[0m \u001b[39mif\u001b[39;00m resp\u001b[39m.\u001b[39mstatus \u001b[39m!=\u001b[39m \u001b[39m200\u001b[39m:\n\u001b[0;32m--> 110\u001b[0m     \u001b[39mraise\u001b[39;00m BadResponse(resp\u001b[39m.\u001b[39mdata\u001b[39m.\u001b[39mdecode(\u001b[39m\"\u001b[39m\u001b[39mutf-8\u001b[39m\u001b[39m\"\u001b[39m))\n\u001b[1;32m    112\u001b[0m \u001b[39mif\u001b[39;00m raw:\n\u001b[1;32m    113\u001b[0m     \u001b[39mreturn\u001b[39;00m resp\n",
      "\u001b[0;31mBadResponse\u001b[0m: {\"status\":\"ERROR\",\"request_id\":\"e9d838039cd22b45331290b640affc83\",\"error\":\"You've exceeded the maximum requests per minute, please wait or upgrade your subscription to continue. https://polygon.io/pricing\"}"
     ]
    }
   ],
   "source": [
    "Extractor(client, \"AAPL\").get_data()\n"
   ]
  },
  {
   "cell_type": "code",
   "execution_count": null,
   "id": "6003cd7a",
   "metadata": {},
   "outputs": [],
   "source": [
    "#hello\n",
    "#hello\n"
   ]
  },
  {
   "cell_type": "code",
   "execution_count": null,
   "id": "e1b7c20c",
   "metadata": {},
   "outputs": [],
   "source": []
  }
 ],
 "metadata": {
  "kernelspec": {
   "display_name": "Python 3 (ipykernel)",
   "language": "python",
   "name": "python3"
  },
  "language_info": {
   "codemirror_mode": {
    "name": "ipython",
    "version": 3
   },
   "file_extension": ".py",
   "mimetype": "text/x-python",
   "name": "python",
   "nbconvert_exporter": "python",
   "pygments_lexer": "ipython3",
   "version": "3.10.11"
  }
 },
 "nbformat": 4,
 "nbformat_minor": 5
}
